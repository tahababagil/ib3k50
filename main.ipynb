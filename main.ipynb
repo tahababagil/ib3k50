{
 "cells": [
  {
   "cell_type": "code",
   "execution_count": 1,
   "metadata": {},
   "outputs": [],
   "source": [
    "import pandas as pd\n",
    "import numpy as np\n",
    "import matplotlib.pyplot as plt\n",
    "from sklearn.tree import DecisionTreeRegressor\n",
    "from sklearn.model_selection import KFold\n"
   ]
  },
  {
   "cell_type": "code",
   "execution_count": 2,
   "metadata": {},
   "outputs": [
    {
     "name": "stdout",
     "output_type": "stream",
     "text": [
      "The score for fold 0 is 0.2821488413107959\n",
      "-------------------\n",
      "The score for fold 1 is 0.29787636975748133\n",
      "-------------------\n",
      "The score for fold 2 is 0.3358706114660618\n",
      "-------------------\n",
      "The score for fold 3 is 0.29437905265676445\n",
      "-------------------\n",
      "The score for fold 4 is 0.15915563314903314\n",
      "-------------------\n",
      "average score for a max_depth of 5 is 0.2738861016680273\n",
      "Red tree score is 0.4627584023894983\n",
      "White tree score is 0.3666891190470236\n"
     ]
    }
   ],
   "source": [
    "red_q = pd.read_csv('winequality-red.csv', sep=';')\n",
    "red_q_tv = red_q['quality']\n",
    "red_q = red_q.drop('quality', axis=1)\n",
    "white_q = pd.read_csv('winequality-white.csv', sep=';')\n",
    "white_q_tv = white_q['quality']\n",
    "white_q = white_q.drop('quality', axis=1)\n",
    "# print(red_q)\n",
    "#  red_q = red_q.\n",
    "max_depth = 5\n",
    "kf =  KFold(n_splits=5, shuffle=True)\n",
    "scores_total = 0\n",
    "for i , (train_index, test_index) in enumerate(kf.split(red_q)):\n",
    "    # print(\"TRAIN:\", train_index, \"TEST:\", test_index)\n",
    "    X_train, X_test = red_q.iloc[train_index], red_q.iloc[test_index]\n",
    "    y_train, y_test = red_q_tv.iloc[train_index], red_q_tv.iloc[test_index]\n",
    "    regr_1 = DecisionTreeRegressor(max_depth=max_depth)\n",
    "    tree = regr_1.fit(X_train, y_train)\n",
    "    score  = tree.score(X_test, y_test)\n",
    "    scores_total += score\n",
    "    print(f'The score for fold {i} is', score)\n",
    "    print('-------------------')\n",
    "\n",
    "print(f'average score for a max_depth of {max_depth} is {scores_total / kf.get_n_splits()}')\n",
    "\n",
    "dtr = DecisionTreeRegressor(max_depth=max_depth)\n",
    "tree_red = dtr.fit(red_q, red_q_tv)\n",
    "\n",
    "dtr2= DecisionTreeRegressor(max_depth=max_depth)\n",
    "tree_white = dtr2.fit(white_q, white_q_tv)\n",
    "print('Red tree score is', tree_red.score(red_q, red_q_tv))\n",
    "print('White tree score is', tree_white.score(white_q, white_q_tv))\n",
    "import pickle\n",
    "with open('red_tree_quality.pkl', 'wb') as f:\n",
    "    pickle.dump(tree_red, f)\n",
    "with open('white_tree_quality.pkl', 'wb') as f:\n",
    "    pickle.dump(tree_white, f)\n",
    "\n",
    "# pickle.dump(tree_red, open('red_tree.pkl', 'wb'))\n",
    "# pickle.dump(tree_white, open('white_tree.pkl', 'wb'))\n"
   ]
  },
  {
   "cell_type": "code",
   "execution_count": 3,
   "metadata": {},
   "outputs": [],
   "source": [
    "red_p = pd.read_csv('Red.csv', sep=',')\n",
    "white_p = pd.read_csv('White.csv', sep=',')\n",
    "red_p['Rating'] = red_p['Rating'] * 2\n",
    "white_p['Rating'] = white_p['Rating'] * 2\n",
    "with open('red_price.pkl', 'wb') as f:\n",
    "    pickle.dump(red_p[['Rating', 'Price']], f)\n",
    "with open('white_price.pkl', 'wb') as f:\n",
    "    pickle.dump(white_p[['Rating', 'Price']], f)\n",
    "\n",
    "# print(tree_red.predict(red_q.iloc[0:2]))\n",
    "# print(red_p[['Rating', 'Price']])\n"
   ]
  },
  {
   "cell_type": "code",
   "execution_count": null,
   "metadata": {},
   "outputs": [
    {
     "name": "stdout",
     "output_type": "stream",
     "text": [
      "MSE for exp model is 296.9164513640394\n"
     ]
    },
    {
     "data": {
      "image/png": "[encoded data removed]",
      "text/plain": [
       "<Figure size 640x480 with 1 Axes>"
      ]
     },
     "metadata": {},
     "output_type": "display_data"
    }
   ],
   "source": [
    "plt.scatter(red_p['Rating'], red_p['Price'])\n",
    "# plt.scatter(white_p['Rating'], white_p['Price'], color='white')\n",
    "# red_p = red_p[red_p[\"Price\"] < 2000] \n",
    "# fit = np.polyfit(red_p['Rating'], red_p['Price'], 1)\n",
    "\n",
    "# fit = np.polyfit(red_p['Rating'], np.log(red_p['Price']), 1)\n",
    "# print(fit)\n",
    "fit_type = \"hybrid\"\n",
    "if fit_type == \"hybrid\":\n",
    "    red_p_bt = white_p[white_p['Rating'] <= 8.2]\n",
    "    red_p_at = white_p[white_p['Rating'] >= 8.2]\n",
    "    fit = np.polyfit(red_p_bt['Rating'], red_p_bt['Price'], 1)\n",
    "    fit2 = np.polyfit(red_p_at['Rating'], np.log(red_p_at['Price']), 1)\n",
    "    relat_bt = red_p_bt['Rating'].unique()\n",
    "    relat_bt.sort()\n",
    "    relat_at = red_p_at['Rating'].unique()\n",
    "    relat_at.sort()\n",
    "    plt.plot(relat_bt, relat_bt * fit[0] + fit[1], color='red')\n",
    "    plt.plot(relat_at, np.exp(fit2[0] * relat_at + fit2[1]), color='red')\n",
    "\n",
    "if fit_type == \"linear\":\n",
    "    fit = np.polyfit(red_p['Rating'], red_p['Price'], 1)\n",
    "    plt.plot(red_p['Rating'], red_p['Rating'] * fit[0] + fit[1], color='red')\n",
    "if fit_type == \"exp\":\n",
    "    fit = np.polyfit(red_p['Rating'], np.log(red_p['Price']), 1)\n",
    "    relat = red_p['Rating'].unique()\n",
    "    relat.sort()\n",
    "    plt.plot(relat, np.exp(fit[0] * relat + fit[1]), color='red')\n",
    "    # plt.plot(red_p['Rating'], np.exp(fit[0] * red_p['Rating'] + fit[1]), color='red')\n",
    "mse  = np.mean((red_p_bt['Price'] - (red_p_bt['Rating'] * fit[0] + fit[1]))**2)\n",
    "print(f\"MSE for {fit_type} model is {mse}\")\n",
    "pickle.dump(fit, open('white_pred.pkl', 'wb'))\n",
    "\n",
    "# exp = 709.56\n",
    "# linear = 714.14\n",
    "# hybrid = 315.64\n",
    "# hybrid white = 105.84\n",
    "# relat = pd.DataFrame(relat)\n",
    "# relat = relat[relat['Rating'] == 5]\n",
    "# relat.quantile(0.5)\n",
    "# print(relat)\n",
    "# plt.plot(relat, relat * fit[0] + fit[1], color='red')\n",
    "# plt.plot(relat, np.exp(fit[0] * relat + fit[1]), color='red')\n",
    "# plt.plot(red_p['Rating'].unique()., np.exp(fit[0] * red_p['Rating'].unique() + fit[1]), color='red')\n",
    "plt.show()\n"
   ]
  },
  {
   "cell_type": "code",
   "execution_count": null,
   "metadata": {},
   "outputs": [],
   "source": []
  }
 ],
 "metadata": {
  "kernelspec": {
   "display_name": "Python 3",
   "language": "python",
   "name": "python3"
  },
  "language_info": {
   "codemirror_mode": {
    "name": "ipython",
    "version": 3
   },
   "file_extension": ".py",
   "mimetype": "text/x-python",
   "name": "python",
   "nbconvert_exporter": "python",
   "pygments_lexer": "ipython3",
   "version": "3.11.5"
  }
 },
 "nbformat": 4,
 "nbformat_minor": 2
}
