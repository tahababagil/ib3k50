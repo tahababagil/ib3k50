{
 "cells": [
  {
   "cell_type": "code",
   "execution_count": 15,
   "metadata": {},
   "outputs": [],
   "source": [
    "import pandas as pd\n",
    "import numpy as np\n",
    "import matplotlib.pyplot as plt\n",
    "from sklearn.tree import DecisionTreeRegressor\n",
    "from sklearn.model_selection import KFold\n"
   ]
  },
  {
   "cell_type": "code",
   "execution_count": null,
   "metadata": {},
   "outputs": [
    {
     "name": "stdout",
     "output_type": "stream",
     "text": [
      "The score for fold 0 is 0.24374997430109258\n",
      "-------------------\n",
      "The score for fold 1 is 0.2826839854861565\n",
      "-------------------\n",
      "The score for fold 2 is 0.20955192410712675\n",
      "-------------------\n",
      "The score for fold 3 is 0.3139698534173849\n",
      "-------------------\n",
      "The score for fold 4 is 0.3397436947468533\n",
      "-------------------\n",
      "average score for a max_depth of 5 is 0.2779398864117228\n",
      "Red tree score is 0.4627584023894983\n",
      "White tree score is 0.3666891190470236\n"
     ]
    }
   ],
   "source": [
    "red_q = pd.read_csv('winequality-red.csv', sep=';')\n",
    "red_q_tv = red_q['quality']\n",
    "red_q = red_q.drop('quality', axis=1)\n",
    "white_q = pd.read_csv('winequality-white.csv', sep=';')\n",
    "white_q_tv = white_q['quality']\n",
    "white_q = white_q.drop('quality', axis=1)\n",
    "# print(red_q)\n",
    "#  red_q = red_q.\n",
    "max_depth = 5\n",
    "kf =  KFold(n_splits=5, shuffle=True)\n",
    "scores_total = 0\n",
    "for i , (train_index, test_index) in enumerate(kf.split(red_q)):\n",
    "    # print(\"TRAIN:\", train_index, \"TEST:\", test_index)\n",
    "    X_train, X_test = red_q.iloc[train_index], red_q.iloc[test_index]\n",
    "    y_train, y_test = red_q_tv.iloc[train_index], red_q_tv.iloc[test_index]\n",
    "    regr_1 = DecisionTreeRegressor(max_depth=max_depth)\n",
    "    tree = regr_1.fit(X_train, y_train)\n",
    "    score  = tree.score(X_test, y_test)\n",
    "    scores_total += score\n",
    "    print(f'The score for fold {i} is', score)\n",
    "    print('-------------------')\n",
    "\n",
    "print(f'average score for a max_depth of {max_depth} is {scores_total / kf.get_n_splits()}')\n",
    "\n",
    "dtr = DecisionTreeRegressor(max_depth=max_depth)\n",
    "tree_red = dtr.fit(red_q, red_q_tv)\n",
    "\n",
    "dtr2= DecisionTreeRegressor(max_depth=max_depth)\n",
    "tree_white = dtr2.fit(white_q, white_q_tv)\n",
    "print('Red tree score is', tree_red.score(red_q, red_q_tv))\n",
    "print('White tree score is', tree_white.score(white_q, white_q_tv))\n",
    "import pickle\n",
    "with open('red_tree_quality.pkl', 'wb') as f:\n",
    "    pickle.dump(tree_red, f)\n",
    "with open('white_tree_quality.pkl', 'wb') as f:\n",
    "    pickle.dump(tree_white, f)\n",
    "\n",
    "# pickle.dump(tree_red, open('red_tree.pkl', 'wb'))\n",
    "# pickle.dump(tree_white, open('white_tree.pkl', 'wb'))\n"
   ]
  },
  {
   "cell_type": "code",
   "execution_count": 64,
   "metadata": {},
   "outputs": [],
   "source": [
    "red_p = pd.read_csv('Red.csv', sep=',')\n",
    "white_p = pd.read_csv('White.csv', sep=',')\n",
    "red_p['Rating'] = red_p['Rating'] * 2\n",
    "white_p['Rating'] = white_p['Rating'] * 2\n",
    "with open('red_price.pkl', 'wb') as f:\n",
    "    pickle.dump(red_p[['Rating', 'Price']], f)\n",
    "with open('white_price.pkl', 'wb') as f:\n",
    "    pickle.dump(white_p[['Rating', 'Price']], f)\n",
    "\n",
    "# print(tree_red.predict(red_q.iloc[0:2]))\n",
    "# print(red_p[['Rating', 'Price']])\n"
   ]
  },
  {
   "cell_type": "code",
   "execution_count": null,
   "metadata": {},
   "outputs": [
    {
     "name": "stdout",
     "output_type": "stream",
     "text": [
      "      fixed acidity  volatile acidity  citric acid  residual sugar  chlorides  \\\n",
      "0               7.4             0.700         0.00             1.9      0.076   \n",
      "1               7.8             0.880         0.00             2.6      0.098   \n",
      "2               7.8             0.760         0.04             2.3      0.092   \n",
      "3              11.2             0.280         0.56             1.9      0.075   \n",
      "4               7.4             0.700         0.00             1.9      0.076   \n",
      "...             ...               ...          ...             ...        ...   \n",
      "1594            6.2             0.600         0.08             2.0      0.090   \n",
      "1595            5.9             0.550         0.10             2.2      0.062   \n",
      "1596            6.3             0.510         0.13             2.3      0.076   \n",
      "1597            5.9             0.645         0.12             2.0      0.075   \n",
      "1598            6.0             0.310         0.47             3.6      0.067   \n",
      "\n",
      "      free sulfur dioxide  total sulfur dioxide  density    pH  sulphates  \\\n",
      "0                    11.0                  34.0  0.99780  3.51       0.56   \n",
      "1                    25.0                  67.0  0.99680  3.20       0.68   \n",
      "2                    15.0                  54.0  0.99700  3.26       0.65   \n",
      "3                    17.0                  60.0  0.99800  3.16       0.58   \n",
      "4                    11.0                  34.0  0.99780  3.51       0.56   \n",
      "...                   ...                   ...      ...   ...        ...   \n",
      "1594                 32.0                  44.0  0.99490  3.45       0.58   \n",
      "1595                 39.0                  51.0  0.99512  3.52       0.76   \n",
      "1596                 29.0                  40.0  0.99574  3.42       0.75   \n",
      "1597                 32.0                  44.0  0.99547  3.57       0.71   \n",
      "1598                 18.0                  42.0  0.99549  3.39       0.66   \n",
      "\n",
      "      alcohol  \n",
      "0         9.4  \n",
      "1         9.8  \n",
      "2         9.8  \n",
      "3         9.8  \n",
      "4         9.4  \n",
      "...       ...  \n",
      "1594     10.5  \n",
      "1595     11.2  \n",
      "1596     11.0  \n",
      "1597     10.2  \n",
      "1598     11.0  \n",
      "\n",
      "[1599 rows x 11 columns]\n"
     ]
    }
   ],
   "source": [
    "print(red_q['alcohol'])"
   ]
  },
  {
   "cell_type": "code",
   "execution_count": null,
   "metadata": {},
   "outputs": [],
   "source": []
  }
 ],
 "metadata": {
  "kernelspec": {
   "display_name": "Python 3",
   "language": "python",
   "name": "python3"
  },
  "language_info": {
   "codemirror_mode": {
    "name": "ipython",
    "version": 3
   },
   "file_extension": ".py",
   "mimetype": "text/x-python",
   "name": "python",
   "nbconvert_exporter": "python",
   "pygments_lexer": "ipython3",
   "version": "3.11.2"
  }
 },
 "nbformat": 4,
 "nbformat_minor": 2
}
