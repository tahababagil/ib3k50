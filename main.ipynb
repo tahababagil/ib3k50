{
 "cells": [
  {
   "cell_type": "code",
   "execution_count": 15,
   "metadata": {},
   "outputs": [],
   "source": [
    "import pandas as pd\n",
    "import numpy as np\n",
    "import matplotlib.pyplot as plt\n",
    "from sklearn.tree import DecisionTreeRegressor\n",
    "from sklearn.model_selection import KFold\n"
   ]
  },
  {
   "cell_type": "code",
   "execution_count": 45,
   "metadata": {},
   "outputs": [
    {
     "name": "stdout",
     "output_type": "stream",
     "text": [
      "The score for fold 0 is 0.27868090297435644\n",
      "-------------------\n",
      "The score for fold 1 is 0.21325334094878645\n",
      "-------------------\n",
      "The score for fold 2 is 0.28928317342967214\n",
      "-------------------\n",
      "The score for fold 3 is 0.30921813955339805\n",
      "-------------------\n",
      "The score for fold 4 is 0.3071967998682499\n",
      "-------------------\n",
      "average score for a max_depth of 5 is 0.27952647135489256\n",
      "Red tree score is 0.4627584023894983\n",
      "White tree score is 0.3666891190470236\n"
     ]
    }
   ],
   "source": [
    "red_q = pd.read_csv('winequality-red.csv', sep=';')\n",
    "red_q_tv = red_q['quality']\n",
    "red_q = red_q.drop('quality', axis=1)\n",
    "white_q = pd.read_csv('winequality-white.csv', sep=';')\n",
    "white_q_tv = white_q['quality']\n",
    "white_q = white_q.drop('quality', axis=1)\n",
    "\n",
    "#  red_q = red_q.\n",
    "max_depth = 5\n",
    "kf =  KFold(n_splits=5, shuffle=True)\n",
    "scores_total = 0\n",
    "for i , (train_index, test_index) in enumerate(kf.split(red_q)):\n",
    "    # print(\"TRAIN:\", train_index, \"TEST:\", test_index)\n",
    "    X_train, X_test = red_q.iloc[train_index], red_q.iloc[test_index]\n",
    "    y_train, y_test = red_q_tv.iloc[train_index], red_q_tv.iloc[test_index]\n",
    "    regr_1 = DecisionTreeRegressor(max_depth=max_depth)\n",
    "    tree = regr_1.fit(X_train, y_train)\n",
    "    score  = tree.score(X_test, y_test)\n",
    "    scores_total += score\n",
    "    print(f'The score for fold {i} is', score)\n",
    "    print('-------------------')\n",
    "\n",
    "print(f'average score for a max_depth of {max_depth} is {scores_total / kf.get_n_splits()}')\n",
    "\n",
    "dtr = DecisionTreeRegressor(max_depth=max_depth)\n",
    "tree_red = dtr.fit(red_q, red_q_tv)\n",
    "\n",
    "dtr2= DecisionTreeRegressor(max_depth=max_depth)\n",
    "tree_white = dtr2.fit(white_q, white_q_tv)\n",
    "print('Red tree score is', tree_red.score(red_q, red_q_tv))\n",
    "print('White tree score is', tree_white.score(white_q, white_q_tv))\n",
    "\n",
    "# importances = tree_red.feature_importances_\n",
    "# print(importances)\n",
    "\n"
   ]
  },
  {
   "cell_type": "code",
   "execution_count": 57,
   "metadata": {},
   "outputs": [
    {
     "name": "stdout",
     "output_type": "stream",
     "text": [
      "[5.10576923 5.29577465]\n",
      "      Rating  Price\n",
      "0        8.4  95.00\n",
      "1        8.6  15.50\n",
      "2        7.8   7.45\n",
      "3        7.0   8.72\n",
      "4        7.8  29.15\n",
      "...      ...    ...\n",
      "8661     7.6  16.47\n",
      "8662     8.0  20.09\n",
      "8663     7.4  23.95\n",
      "8664     7.0   6.21\n",
      "8665     6.8   7.88\n",
      "\n",
      "[8666 rows x 2 columns]\n"
     ]
    }
   ],
   "source": [
    "red_p = pd.read_csv('Red.csv', sep=',')\n",
    "red_p['Rating'] = red_p['Rating'] * 2\n",
    "print(tree_red.predict(red_q.iloc[0:2]))\n",
    "print(red_p[['Rating', 'Price']])\n"
   ]
  },
  {
   "cell_type": "code",
   "execution_count": null,
   "metadata": {},
   "outputs": [],
   "source": []
  }
 ],
 "metadata": {
  "kernelspec": {
   "display_name": "Python 3",
   "language": "python",
   "name": "python3"
  },
  "language_info": {
   "codemirror_mode": {
    "name": "ipython",
    "version": 3
   },
   "file_extension": ".py",
   "mimetype": "text/x-python",
   "name": "python",
   "nbconvert_exporter": "python",
   "pygments_lexer": "ipython3",
   "version": "3.11.2"
  }
 },
 "nbformat": 4,
 "nbformat_minor": 2
}
